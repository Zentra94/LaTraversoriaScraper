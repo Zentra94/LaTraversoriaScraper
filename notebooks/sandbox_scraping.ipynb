{
 "cells": [
  {
   "cell_type": "code",
   "execution_count": 1,
   "id": "40554bbf",
   "metadata": {},
   "outputs": [],
   "source": [
    "import requests\n",
    "from bs4 import BeautifulSoup\n",
    "from selenium import webdriver\n",
    "from selenium.webdriver.common.by import By\n",
    "import pandas as pd\n",
    "\n",
    "import warnings\n",
    "warnings.simplefilter(action='ignore', category=FutureWarning)\n",
    "\n",
    "import time"
   ]
  },
  {
   "cell_type": "code",
   "execution_count": 2,
   "id": "b204184e",
   "metadata": {},
   "outputs": [],
   "source": [
    "URL = \"https://www.rappi.cl/restaurantes\""
   ]
  },
  {
   "cell_type": "markdown",
   "id": "a9319fac",
   "metadata": {},
   "source": [
    "# Get categories"
   ]
  },
  {
   "cell_type": "code",
   "execution_count": 3,
   "id": "b66e0d9c",
   "metadata": {},
   "outputs": [
    {
     "data": {
      "text/plain": [
       "['Pizzas',\n",
       " 'Hamburguesas',\n",
       " 'Experiencias Culinarias',\n",
       " 'Sushi',\n",
       " 'Peruana',\n",
       " 'Asiática',\n",
       " 'Pastelería y Postres',\n",
       " 'Pollo',\n",
       " 'Mexicana',\n",
       " 'Árabe',\n",
       " 'Saludable',\n",
       " 'Italiana',\n",
       " 'Helados',\n",
       " 'Desayunos',\n",
       " 'Sándwiches',\n",
       " 'Hot Dogs',\n",
       " 'Carnes',\n",
       " 'Vegetariana',\n",
       " 'Pescados y Mariscos',\n",
       " 'Comida Casera',\n",
       " 'Café',\n",
       " 'Internacional',\n",
       " 'Jugos y Batidos',\n",
       " 'Americana']"
      ]
     },
     "execution_count": 3,
     "metadata": {},
     "output_type": "execute_result"
    }
   ],
   "source": [
    "page = requests.get(URL)\n",
    "soup = BeautifulSoup(page.content, \"html.parser\")\n",
    "\n",
    "categories = []\n",
    "\n",
    "\n",
    "job_elements = soup.find_all(\"span\", attrs={\"data-testid\":\"typography\", \"class\":\"sc-bxivhb eeSaHG sc-5d042f5c-5 gzdxii\"})\n",
    "for job_element in job_elements:\n",
    "    elements = job_element.text\n",
    "    categories.append(elements)\n",
    "    \n",
    "categories"
   ]
  },
  {
   "cell_type": "markdown",
   "id": "bb375531",
   "metadata": {},
   "source": [
    "# Using Categories"
   ]
  },
  {
   "cell_type": "code",
   "execution_count": 5,
   "id": "2bbce8d6",
   "metadata": {},
   "outputs": [
    {
     "data": {
      "text/plain": [
       "['/restaurantes/900031483-chef-metalero',\n",
       " '/restaurantes/900038379-juicy-lucy',\n",
       " '/restaurantes/900028590-roof-burger',\n",
       " '/restaurantes/900067604-venice',\n",
       " '/restaurantes/900030543-biteme-organic-burger',\n",
       " '/restaurantes/900083275-rayo-burger',\n",
       " '/restaurantes/900015883-mr-jack',\n",
       " '/restaurantes/900021235-mcdonalds',\n",
       " '/restaurantes/900028711-burgery',\n",
       " '/restaurantes/900014611-carls-jr',\n",
       " '/restaurantes/900015570-burger-kingr',\n",
       " '/restaurantes/900073000-fiki-burger',\n",
       " '/restaurantes/900014562-doble-queso',\n",
       " '/restaurantes/900017651-la-burguesita-by-la-burguesia',\n",
       " '/restaurantes/900064834-burger-beef',\n",
       " '/restaurantes/900016264-wendys',\n",
       " '/restaurantes/900057203-johnny-rockets',\n",
       " '/restaurantes/900071197-just-burger',\n",
       " '/restaurantes/900031546-bayside-burgers-n-shakes',\n",
       " '/restaurantes/900031792-sorry-burger',\n",
       " '/restaurantes/900017512-uncle-fletch',\n",
       " '/restaurantes/900026555-sonder-meat',\n",
       " '/restaurantes/900028490-le-nam',\n",
       " '/restaurantes/900029077-la-burgueseria',\n",
       " '/restaurantes/900066708-burger-pana',\n",
       " '/restaurantes/900072822-fuente-epica',\n",
       " '/restaurantes/900073175-obvious-burger',\n",
       " '/restaurantes/900037495-rockstar-burger-santiago',\n",
       " '/restaurantes/900071622-la-antojeria',\n",
       " '/restaurantes/900014661-la-maestranza',\n",
       " '/restaurantes/900073429-le-nam-burgers',\n",
       " '/restaurantes/900081147-the-big-burgery',\n",
       " '/restaurantes/900022796-la-sanguchera-del-barrio',\n",
       " '/restaurantes/900028588-bagel-burger',\n",
       " '/restaurantes/900080530-la-sandwicheria',\n",
       " '/restaurantes/900066428-uk-vegan-burger',\n",
       " '/restaurantes/900069918-fat-cat',\n",
       " '/restaurantes/900078827-fasfu-burgers',\n",
       " '/restaurantes/900014944-the-chilean',\n",
       " '/restaurantes/900015132-american-burger',\n",
       " '/restaurantes/900026047-senor-burger',\n",
       " '/restaurantes/900040523-jet-set',\n",
       " '/restaurantes/900066709-angus-burgers',\n",
       " '/restaurantes/900079876-burger-co',\n",
       " '/restaurantes/900022209-papas-shop',\n",
       " '/restaurantes/900038380-burger-truck',\n",
       " '/restaurantes/900032154-lazy-burger',\n",
       " '/restaurantes/900067731-chachan',\n",
       " '/restaurantes/900039189-rubaiyat',\n",
       " '/restaurantes/900015077-fuente-las-condes',\n",
       " '/restaurantes/900073203-churrasco-planet',\n",
       " '/restaurantes/900074391-flavors',\n",
       " '/restaurantes/900081136-eat-at-joes',\n",
       " '/restaurantes/900016280-ciudad-vieja',\n",
       " '/restaurantes/900073241-electric-chicken',\n",
       " '/restaurantes/900020029-pulpork-original-pulled-pork',\n",
       " '/restaurantes/900019710-mamut',\n",
       " '/restaurantes/900016739-chilis']"
      ]
     },
     "execution_count": 5,
     "metadata": {},
     "output_type": "execute_result"
    }
   ],
   "source": [
    "driver = webdriver.Chrome() \n",
    "driver.implicitly_wait(0.5)\n",
    "driver.get(URL)\n",
    "restorants_urls = []\n",
    "\n",
    "\n",
    "# 2 == Hamb.\n",
    "\n",
    "driver.find_element(By.XPATH,'//*[@id=\"__next\"]/div[3]/div[3]/div[1]/div/div/button[2]').click()\n",
    "\n",
    "time.sleep(5)\n",
    "\n",
    "html = driver.page_source\n",
    "\n",
    "soup = BeautifulSoup(html, \"html.parser\")\n",
    "\n",
    "job_elements = soup.find_all(\"a\", attrs={\"data-testid\":\"store-item\"})\n",
    "\n",
    "for job_element in job_elements:\n",
    "    restorants_urls.append(job_element[\"href\"])   \n",
    "    \n",
    "driver.close()\n",
    "restorants_urls"
   ]
  },
  {
   "cell_type": "markdown",
   "id": "44de8880",
   "metadata": {},
   "source": [
    "# Get Data\n",
    "- Link\n",
    "- Name\n",
    "- Address\n",
    "- Stars\n",
    "- Total products\n"
   ]
  },
  {
   "cell_type": "code",
   "execution_count": 53,
   "id": "fb0c932f",
   "metadata": {},
   "outputs": [
    {
     "name": "stdout",
     "output_type": "stream",
     "text": [
      "parsing: https://www.rappi.cl/restaurantes/900031483-chef-metalero\n",
      "parsing: https://www.rappi.cl/restaurantes/900083275-rayo-burger\n",
      "parsing: https://www.rappi.cl/restaurantes/900038379-juicy-lucy\n",
      "parsing: https://www.rappi.cl/restaurantes/900030543-biteme-organic-burger\n"
     ]
    },
    {
     "data": {
      "text/html": [
       "<div>\n",
       "<style scoped>\n",
       "    .dataframe tbody tr th:only-of-type {\n",
       "        vertical-align: middle;\n",
       "    }\n",
       "\n",
       "    .dataframe tbody tr th {\n",
       "        vertical-align: top;\n",
       "    }\n",
       "\n",
       "    .dataframe thead th {\n",
       "        text-align: right;\n",
       "    }\n",
       "</style>\n",
       "<table border=\"1\" class=\"dataframe\">\n",
       "  <thead>\n",
       "    <tr style=\"text-align: right;\">\n",
       "      <th></th>\n",
       "      <th>link</th>\n",
       "      <th>name</th>\n",
       "      <th>address</th>\n",
       "      <th>stars</th>\n",
       "      <th>total_products</th>\n",
       "    </tr>\n",
       "  </thead>\n",
       "  <tbody>\n",
       "    <tr>\n",
       "      <th>0</th>\n",
       "      <td>https://www.rappi.cl/restaurantes/900031483-ch...</td>\n",
       "      <td>Chef Metalero</td>\n",
       "      <td>Rancagua 574, Providencia</td>\n",
       "      <td>4.3</td>\n",
       "      <td>36</td>\n",
       "    </tr>\n",
       "    <tr>\n",
       "      <th>1</th>\n",
       "      <td>https://www.rappi.cl/restaurantes/900083275-ra...</td>\n",
       "      <td>Rayo Burger</td>\n",
       "      <td>Alonso de Córdova 5320, Las Condes, Chile</td>\n",
       "      <td>NaN</td>\n",
       "      <td>24</td>\n",
       "    </tr>\n",
       "    <tr>\n",
       "      <th>2</th>\n",
       "      <td>https://www.rappi.cl/restaurantes/900038379-ju...</td>\n",
       "      <td>Juicy Lucy</td>\n",
       "      <td>Orrego Luco 145, Providencia, Región Metropoli...</td>\n",
       "      <td>3.4</td>\n",
       "      <td>76</td>\n",
       "    </tr>\n",
       "    <tr>\n",
       "      <th>3</th>\n",
       "      <td>https://www.rappi.cl/restaurantes/900030543-bi...</td>\n",
       "      <td>Biteme Organic Burger</td>\n",
       "      <td>avenida Apoquindo 4900 local 112 y 113</td>\n",
       "      <td>NaN</td>\n",
       "      <td>45</td>\n",
       "    </tr>\n",
       "  </tbody>\n",
       "</table>\n",
       "</div>"
      ],
      "text/plain": [
       "                                                link                   name  \\\n",
       "0  https://www.rappi.cl/restaurantes/900031483-ch...          Chef Metalero   \n",
       "1  https://www.rappi.cl/restaurantes/900083275-ra...            Rayo Burger   \n",
       "2  https://www.rappi.cl/restaurantes/900038379-ju...             Juicy Lucy   \n",
       "3  https://www.rappi.cl/restaurantes/900030543-bi...  Biteme Organic Burger   \n",
       "\n",
       "                                             address  stars  total_products  \n",
       "0                          Rancagua 574, Providencia    4.3              36  \n",
       "1          Alonso de Córdova 5320, Las Condes, Chile    NaN              24  \n",
       "2  Orrego Luco 145, Providencia, Región Metropoli...    3.4              76  \n",
       "3             avenida Apoquindo 4900 local 112 y 113    NaN              45  "
      ]
     },
     "execution_count": 53,
     "metadata": {},
     "output_type": "execute_result"
    }
   ],
   "source": [
    "results = pd.DataFrame()\n",
    "\n",
    "counter = 0\n",
    "\n",
    "for url in restorants_urls:\n",
    "    new_url = \"https://www.rappi.cl{}\".format(url)\n",
    "    page = requests.get(new_url)\n",
    "    soup = BeautifulSoup(page.content, \"html.parser\")\n",
    "    \n",
    "    print(\"parsing:\", new_url)\n",
    "    \n",
    "    name = soup.find(\"h1\", {\"class\":\"chakra-text css-6oec1p\"}).text\n",
    "    address = soup.find(\"h2\", {\"class\":\"sc-bxivhb dVvqfA\"}).text\n",
    "    stars = soup.find(\"span\", {\"class\":\"sc-bxivhb fyzoZN\"}).text\n",
    "        \n",
    "    try:\n",
    "        stars = float(stars)\n",
    "    except ValueError:\n",
    "        stars = None\n",
    "    \n",
    "    \n",
    "    all_products = soup.find_all(\"div\", {\"class\":\"sc-5a7def68-0 hbVrBp sc-a04fe063-1 hQgbBh\"})\n",
    "    \n",
    "    obs = {\"link\": new_url, \n",
    "           \"name\": name, \n",
    "           \"address\": address, \n",
    "           \"stars\": stars,\n",
    "           \"total_products\": len(all_products)}\n",
    "    results = results.append(obs, ignore_index=True)\n",
    "    \n",
    "    time.sleep(3)\n",
    "    counter +=1\n",
    "    \n",
    "    if counter > 3:\n",
    "        break\n",
    "    \n",
    "    \n",
    "        \n",
    "results"
   ]
  },
  {
   "cell_type": "code",
   "execution_count": null,
   "id": "b5cece55",
   "metadata": {},
   "outputs": [],
   "source": []
  }
 ],
 "metadata": {
  "kernelspec": {
   "display_name": "venv",
   "language": "python",
   "name": "venv"
  },
  "language_info": {
   "codemirror_mode": {
    "name": "ipython",
    "version": 3
   },
   "file_extension": ".py",
   "mimetype": "text/x-python",
   "name": "python",
   "nbconvert_exporter": "python",
   "pygments_lexer": "ipython3",
   "version": "3.9.7"
  }
 },
 "nbformat": 4,
 "nbformat_minor": 5
}
